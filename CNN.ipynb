{
  "cells": [
    {
      "cell_type": "code",
      "metadata": {
        "id": "NErAozPEOziy",
        "colab_type": "code",
        "outputId": "dde555a3-e6ec-447d-d7a7-34494894f5ca",
        "colab": {
          "base_uri": "https://localhost:8080/",
          "height": 1000
        }
      },
      "source": [
        "import numpy as np\n",
        "import pandas as pd\n",
        "from tensorflow.keras.models import Sequential\n",
        "from tensorflow.keras.layers import (Dense, Flatten, Conv2D, Dropout, \n",
        "                          MaxPooling2D, BatchNormalization)\n",
        "from tensorflow.keras.optimizers import Adam\n",
        "from tensorflow.keras.callbacks import LearningRateScheduler, ModelCheckpoint\n",
        "from tensorflow.keras.utils import to_categorical\n",
        "from sklearn.model_selection import train_test_split\n",
        "\n",
        "data = pd.read_csv(\"train.csv\")\n",
        "\n",
        "#convert to array and scale to 0-1\n",
        "xarray = data.values[:,2:]/255\n",
        "\n",
        "#reshape array to an array of images (#samples,28,28,1)\n",
        "x = xarray.reshape(data.shape[0], 28, 28, 1)\n",
        "\n",
        "#convert labels to one-hot vector\n",
        "y = to_categorical(data.Label, 5)\n",
        "\n",
        "#Define arquitecture\n",
        "model = Sequential()\n",
        "model.add(Conv2D(128, kernel_size=(3, 3), activation='relu',padding='same',\n",
        "                 input_shape=(28, 28, 1)))\n",
        "model.add(BatchNormalization())\n",
        "model.add(Conv2D(128, kernel_size=(3, 3), activation='relu',padding='same'))\n",
        "model.add(BatchNormalization())\n",
        "model.add(MaxPooling2D((2, 2), padding='same' ))\n",
        "model.add(Dropout(0.3))\n",
        "\n",
        "model.add(Conv2D(256, kernel_size=(3, 3), activation='relu', padding='same'))\n",
        "model.add(BatchNormalization())\n",
        "model.add(Conv2D(256, kernel_size=(3, 3), activation='relu',padding='same'))\n",
        "model.add(BatchNormalization())\n",
        "model.add(MaxPooling2D((2, 2), padding='same' ))\n",
        "model.add(Dropout(0.3))\n",
        "\n",
        "model.add(Flatten())\n",
        "model.add(Dense(512, activation='sigmoid'))\n",
        "model.add(BatchNormalization())\n",
        "model.add(Dropout(0.4))\n",
        "model.add(Dense(1024, activation='relu'))\n",
        "model.add(BatchNormalization())\n",
        "model.add(Dropout(0.4))\n",
        "model.add(Dense(5, activation='softmax'))\n",
        "\n",
        "optimizer = Adam(lr=0.001, beta_1=0.9, beta_2=0.999 )\n",
        "\n",
        "model.compile(optimizer=optimizer, \n",
        "              loss=\"categorical_crossentropy\", metrics=[\"accuracy\"])\n",
        "\n",
        "reduce_lr = LearningRateScheduler(lambda x: 1e-3 * 0.9 ** x)\n",
        "\n",
        "checkpointer = ModelCheckpoint(filepath=\"fashion_mnist_model.h5\",\n",
        "                               verbose=1, save_best_only=True)\n",
        "\n",
        "x_train, x_test, y_train, y_test = train_test_split(x, y, test_size=0.05,\n",
        "                                                    random_state=42)\n",
        "\n",
        "history = model.fit(x_train, y_train,\n",
        "          batch_size=256,\n",
        "          epochs=42,\n",
        "          validation_data = (x_test, y_test),\n",
        "          callbacks = [reduce_lr,checkpointer],\n",
        "          verbose=1)"
      ],
      "execution_count": 2,
      "outputs": [
        {
          "output_type": "stream",
          "text": [
            "Epoch 1/42\n",
            "223/223 [==============================] - ETA: 0s - loss: 0.6586 - accuracy: 0.7538\n",
            "Epoch 00001: val_loss improved from inf to 2.17288, saving model to fashion_mnist_model.h5\n",
            "223/223 [==============================] - 22s 98ms/step - loss: 0.6586 - accuracy: 0.7538 - val_loss: 2.1729 - val_accuracy: 0.1897 - lr: 0.0010\n",
            "Epoch 2/42\n",
            "223/223 [==============================] - ETA: 0s - loss: 0.4599 - accuracy: 0.8187\n",
            "Epoch 00002: val_loss improved from 2.17288 to 1.17455, saving model to fashion_mnist_model.h5\n",
            "223/223 [==============================] - 20s 90ms/step - loss: 0.4599 - accuracy: 0.8187 - val_loss: 1.1745 - val_accuracy: 0.4723 - lr: 9.0000e-04\n",
            "Epoch 3/42\n",
            "223/223 [==============================] - ETA: 0s - loss: 0.4074 - accuracy: 0.8382\n",
            "Epoch 00003: val_loss improved from 1.17455 to 0.39836, saving model to fashion_mnist_model.h5\n",
            "223/223 [==============================] - 20s 91ms/step - loss: 0.4074 - accuracy: 0.8382 - val_loss: 0.3984 - val_accuracy: 0.8333 - lr: 8.1000e-04\n",
            "Epoch 4/42\n",
            "223/223 [==============================] - ETA: 0s - loss: 0.3812 - accuracy: 0.8475\n",
            "Epoch 00004: val_loss improved from 0.39836 to 0.30735, saving model to fashion_mnist_model.h5\n",
            "223/223 [==============================] - 21s 92ms/step - loss: 0.3812 - accuracy: 0.8475 - val_loss: 0.3074 - val_accuracy: 0.8767 - lr: 7.2900e-04\n",
            "Epoch 5/42\n",
            "223/223 [==============================] - ETA: 0s - loss: 0.3584 - accuracy: 0.8559\n",
            "Epoch 00005: val_loss did not improve from 0.30735\n",
            "223/223 [==============================] - 21s 93ms/step - loss: 0.3584 - accuracy: 0.8559 - val_loss: 0.4887 - val_accuracy: 0.7943 - lr: 6.5610e-04\n",
            "Epoch 6/42\n",
            "223/223 [==============================] - ETA: 0s - loss: 0.3365 - accuracy: 0.8655\n",
            "Epoch 00006: val_loss did not improve from 0.30735\n",
            "223/223 [==============================] - 21s 95ms/step - loss: 0.3365 - accuracy: 0.8655 - val_loss: 0.3132 - val_accuracy: 0.8677 - lr: 5.9049e-04\n",
            "Epoch 7/42\n",
            "223/223 [==============================] - ETA: 0s - loss: 0.3179 - accuracy: 0.8732\n",
            "Epoch 00007: val_loss improved from 0.30735 to 0.29255, saving model to fashion_mnist_model.h5\n",
            "223/223 [==============================] - 21s 95ms/step - loss: 0.3179 - accuracy: 0.8732 - val_loss: 0.2925 - val_accuracy: 0.8817 - lr: 5.3144e-04\n",
            "Epoch 8/42\n",
            "223/223 [==============================] - ETA: 0s - loss: 0.3051 - accuracy: 0.8780\n",
            "Epoch 00008: val_loss did not improve from 0.29255\n",
            "223/223 [==============================] - 21s 93ms/step - loss: 0.3051 - accuracy: 0.8780 - val_loss: 0.4176 - val_accuracy: 0.8267 - lr: 4.7830e-04\n",
            "Epoch 9/42\n",
            "223/223 [==============================] - ETA: 0s - loss: 0.3022 - accuracy: 0.8772\n",
            "Epoch 00009: val_loss improved from 0.29255 to 0.25076, saving model to fashion_mnist_model.h5\n",
            "223/223 [==============================] - 21s 94ms/step - loss: 0.3022 - accuracy: 0.8772 - val_loss: 0.2508 - val_accuracy: 0.8933 - lr: 4.3047e-04\n",
            "Epoch 10/42\n",
            "223/223 [==============================] - ETA: 0s - loss: 0.2887 - accuracy: 0.8850\n",
            "Epoch 00010: val_loss improved from 0.25076 to 0.22481, saving model to fashion_mnist_model.h5\n",
            "223/223 [==============================] - 21s 95ms/step - loss: 0.2887 - accuracy: 0.8850 - val_loss: 0.2248 - val_accuracy: 0.9167 - lr: 3.8742e-04\n",
            "Epoch 11/42\n",
            "223/223 [==============================] - ETA: 0s - loss: 0.2749 - accuracy: 0.8892\n",
            "Epoch 00011: val_loss did not improve from 0.22481\n",
            "223/223 [==============================] - 21s 94ms/step - loss: 0.2749 - accuracy: 0.8892 - val_loss: 0.2867 - val_accuracy: 0.8803 - lr: 3.4868e-04\n",
            "Epoch 12/42\n",
            "223/223 [==============================] - ETA: 0s - loss: 0.2628 - accuracy: 0.8954\n",
            "Epoch 00012: val_loss did not improve from 0.22481\n",
            "223/223 [==============================] - 21s 94ms/step - loss: 0.2628 - accuracy: 0.8954 - val_loss: 0.3109 - val_accuracy: 0.8730 - lr: 3.1381e-04\n",
            "Epoch 13/42\n",
            "223/223 [==============================] - ETA: 0s - loss: 0.2522 - accuracy: 0.8989\n",
            "Epoch 00013: val_loss did not improve from 0.22481\n",
            "223/223 [==============================] - 21s 94ms/step - loss: 0.2522 - accuracy: 0.8989 - val_loss: 0.2410 - val_accuracy: 0.9027 - lr: 2.8243e-04\n",
            "Epoch 14/42\n",
            "223/223 [==============================] - ETA: 0s - loss: 0.2507 - accuracy: 0.8982\n",
            "Epoch 00014: val_loss did not improve from 0.22481\n",
            "223/223 [==============================] - 21s 94ms/step - loss: 0.2507 - accuracy: 0.8982 - val_loss: 0.2470 - val_accuracy: 0.8977 - lr: 2.5419e-04\n",
            "Epoch 15/42\n",
            "223/223 [==============================] - ETA: 0s - loss: 0.2469 - accuracy: 0.9015\n",
            "Epoch 00015: val_loss improved from 0.22481 to 0.22368, saving model to fashion_mnist_model.h5\n",
            "223/223 [==============================] - 21s 95ms/step - loss: 0.2469 - accuracy: 0.9015 - val_loss: 0.2237 - val_accuracy: 0.9110 - lr: 2.2877e-04\n",
            "Epoch 16/42\n",
            "223/223 [==============================] - ETA: 0s - loss: 0.2311 - accuracy: 0.9082\n",
            "Epoch 00016: val_loss did not improve from 0.22368\n",
            "223/223 [==============================] - 21s 94ms/step - loss: 0.2311 - accuracy: 0.9082 - val_loss: 0.3106 - val_accuracy: 0.8717 - lr: 2.0589e-04\n",
            "Epoch 17/42\n",
            "223/223 [==============================] - ETA: 0s - loss: 0.2210 - accuracy: 0.9123\n",
            "Epoch 00017: val_loss did not improve from 0.22368\n",
            "223/223 [==============================] - 21s 94ms/step - loss: 0.2210 - accuracy: 0.9123 - val_loss: 0.3157 - val_accuracy: 0.8703 - lr: 1.8530e-04\n",
            "Epoch 18/42\n",
            "223/223 [==============================] - ETA: 0s - loss: 0.2143 - accuracy: 0.9144\n",
            "Epoch 00018: val_loss improved from 0.22368 to 0.20459, saving model to fashion_mnist_model.h5\n",
            "223/223 [==============================] - 21s 95ms/step - loss: 0.2143 - accuracy: 0.9144 - val_loss: 0.2046 - val_accuracy: 0.9173 - lr: 1.6677e-04\n",
            "Epoch 19/42\n",
            "223/223 [==============================] - ETA: 0s - loss: 0.2069 - accuracy: 0.9181\n",
            "Epoch 00019: val_loss did not improve from 0.20459\n",
            "223/223 [==============================] - 21s 94ms/step - loss: 0.2069 - accuracy: 0.9181 - val_loss: 0.2282 - val_accuracy: 0.9103 - lr: 1.5009e-04\n",
            "Epoch 20/42\n",
            "223/223 [==============================] - ETA: 0s - loss: 0.2020 - accuracy: 0.9205\n",
            "Epoch 00020: val_loss did not improve from 0.20459\n",
            "223/223 [==============================] - 21s 94ms/step - loss: 0.2020 - accuracy: 0.9205 - val_loss: 0.2794 - val_accuracy: 0.8913 - lr: 1.3509e-04\n",
            "Epoch 21/42\n",
            "223/223 [==============================] - ETA: 0s - loss: 0.1912 - accuracy: 0.9245\n",
            "Epoch 00021: val_loss did not improve from 0.20459\n",
            "223/223 [==============================] - 21s 94ms/step - loss: 0.1912 - accuracy: 0.9245 - val_loss: 0.2634 - val_accuracy: 0.9007 - lr: 1.2158e-04\n",
            "Epoch 22/42\n",
            "223/223 [==============================] - ETA: 0s - loss: 0.1870 - accuracy: 0.9262\n",
            "Epoch 00022: val_loss improved from 0.20459 to 0.19844, saving model to fashion_mnist_model.h5\n",
            "223/223 [==============================] - 21s 95ms/step - loss: 0.1870 - accuracy: 0.9262 - val_loss: 0.1984 - val_accuracy: 0.9237 - lr: 1.0942e-04\n",
            "Epoch 23/42\n",
            "223/223 [==============================] - ETA: 0s - loss: 0.1848 - accuracy: 0.9265\n",
            "Epoch 00023: val_loss did not improve from 0.19844\n",
            "223/223 [==============================] - 21s 94ms/step - loss: 0.1848 - accuracy: 0.9265 - val_loss: 0.2003 - val_accuracy: 0.9207 - lr: 9.8477e-05\n",
            "Epoch 24/42\n",
            "223/223 [==============================] - ETA: 0s - loss: 0.1769 - accuracy: 0.9306\n",
            "Epoch 00024: val_loss improved from 0.19844 to 0.19380, saving model to fashion_mnist_model.h5\n",
            "223/223 [==============================] - 21s 94ms/step - loss: 0.1769 - accuracy: 0.9306 - val_loss: 0.1938 - val_accuracy: 0.9237 - lr: 8.8629e-05\n",
            "Epoch 25/42\n",
            "223/223 [==============================] - ETA: 0s - loss: 0.1731 - accuracy: 0.9318\n",
            "Epoch 00025: val_loss did not improve from 0.19380\n",
            "223/223 [==============================] - 21s 94ms/step - loss: 0.1731 - accuracy: 0.9318 - val_loss: 0.2180 - val_accuracy: 0.9100 - lr: 7.9766e-05\n",
            "Epoch 26/42\n",
            "223/223 [==============================] - ETA: 0s - loss: 0.1683 - accuracy: 0.9348\n",
            "Epoch 00026: val_loss improved from 0.19380 to 0.18470, saving model to fashion_mnist_model.h5\n",
            "223/223 [==============================] - 21s 95ms/step - loss: 0.1683 - accuracy: 0.9348 - val_loss: 0.1847 - val_accuracy: 0.9283 - lr: 7.1790e-05\n",
            "Epoch 27/42\n",
            "223/223 [==============================] - ETA: 0s - loss: 0.1593 - accuracy: 0.9372\n",
            "Epoch 00027: val_loss did not improve from 0.18470\n",
            "223/223 [==============================] - 21s 94ms/step - loss: 0.1593 - accuracy: 0.9372 - val_loss: 0.1890 - val_accuracy: 0.9260 - lr: 6.4611e-05\n",
            "Epoch 28/42\n",
            "223/223 [==============================] - ETA: 0s - loss: 0.1531 - accuracy: 0.9396\n",
            "Epoch 00028: val_loss did not improve from 0.18470\n",
            "223/223 [==============================] - 21s 94ms/step - loss: 0.1531 - accuracy: 0.9396 - val_loss: 0.1914 - val_accuracy: 0.9280 - lr: 5.8150e-05\n",
            "Epoch 29/42\n",
            "223/223 [==============================] - ETA: 0s - loss: 0.1524 - accuracy: 0.9402\n",
            "Epoch 00029: val_loss did not improve from 0.18470\n",
            "223/223 [==============================] - 21s 94ms/step - loss: 0.1524 - accuracy: 0.9402 - val_loss: 0.2360 - val_accuracy: 0.9123 - lr: 5.2335e-05\n",
            "Epoch 30/42\n",
            "223/223 [==============================] - ETA: 0s - loss: 0.1510 - accuracy: 0.9412\n",
            "Epoch 00030: val_loss did not improve from 0.18470\n",
            "223/223 [==============================] - 21s 94ms/step - loss: 0.1510 - accuracy: 0.9412 - val_loss: 0.1884 - val_accuracy: 0.9270 - lr: 4.7101e-05\n",
            "Epoch 31/42\n",
            "223/223 [==============================] - ETA: 0s - loss: 0.1441 - accuracy: 0.9446\n",
            "Epoch 00031: val_loss did not improve from 0.18470\n",
            "223/223 [==============================] - 21s 94ms/step - loss: 0.1441 - accuracy: 0.9446 - val_loss: 0.2440 - val_accuracy: 0.9050 - lr: 4.2391e-05\n",
            "Epoch 32/42\n",
            "223/223 [==============================] - ETA: 0s - loss: 0.1426 - accuracy: 0.9441\n",
            "Epoch 00032: val_loss did not improve from 0.18470\n",
            "223/223 [==============================] - 21s 94ms/step - loss: 0.1426 - accuracy: 0.9441 - val_loss: 0.2121 - val_accuracy: 0.9170 - lr: 3.8152e-05\n",
            "Epoch 33/42\n",
            "223/223 [==============================] - ETA: 0s - loss: 0.1410 - accuracy: 0.9452\n",
            "Epoch 00033: val_loss did not improve from 0.18470\n",
            "223/223 [==============================] - 21s 94ms/step - loss: 0.1410 - accuracy: 0.9452 - val_loss: 0.1888 - val_accuracy: 0.9290 - lr: 3.4337e-05\n",
            "Epoch 34/42\n",
            "223/223 [==============================] - ETA: 0s - loss: 0.1375 - accuracy: 0.9460\n",
            "Epoch 00034: val_loss did not improve from 0.18470\n",
            "223/223 [==============================] - 21s 94ms/step - loss: 0.1375 - accuracy: 0.9460 - val_loss: 0.1959 - val_accuracy: 0.9237 - lr: 3.0903e-05\n",
            "Epoch 35/42\n",
            "223/223 [==============================] - ETA: 0s - loss: 0.1346 - accuracy: 0.9481\n",
            "Epoch 00035: val_loss did not improve from 0.18470\n",
            "223/223 [==============================] - 21s 93ms/step - loss: 0.1346 - accuracy: 0.9481 - val_loss: 0.2292 - val_accuracy: 0.9113 - lr: 2.7813e-05\n",
            "Epoch 36/42\n",
            "223/223 [==============================] - ETA: 0s - loss: 0.1314 - accuracy: 0.9500\n",
            "Epoch 00036: val_loss did not improve from 0.18470\n",
            "223/223 [==============================] - 21s 94ms/step - loss: 0.1314 - accuracy: 0.9500 - val_loss: 0.2015 - val_accuracy: 0.9237 - lr: 2.5032e-05\n",
            "Epoch 37/42\n",
            "223/223 [==============================] - ETA: 0s - loss: 0.1328 - accuracy: 0.9479\n",
            "Epoch 00037: val_loss did not improve from 0.18470\n",
            "223/223 [==============================] - 21s 94ms/step - loss: 0.1328 - accuracy: 0.9479 - val_loss: 0.1931 - val_accuracy: 0.9273 - lr: 2.2528e-05\n",
            "Epoch 38/42\n",
            "223/223 [==============================] - ETA: 0s - loss: 0.1270 - accuracy: 0.9505\n",
            "Epoch 00038: val_loss improved from 0.18470 to 0.18449, saving model to fashion_mnist_model.h5\n",
            "223/223 [==============================] - 21s 94ms/step - loss: 0.1270 - accuracy: 0.9505 - val_loss: 0.1845 - val_accuracy: 0.9300 - lr: 2.0276e-05\n",
            "Epoch 39/42\n",
            "223/223 [==============================] - ETA: 0s - loss: 0.1220 - accuracy: 0.9537\n",
            "Epoch 00039: val_loss did not improve from 0.18449\n",
            "223/223 [==============================] - 21s 93ms/step - loss: 0.1220 - accuracy: 0.9537 - val_loss: 0.2040 - val_accuracy: 0.9237 - lr: 1.8248e-05\n",
            "Epoch 40/42\n",
            "223/223 [==============================] - ETA: 0s - loss: 0.1273 - accuracy: 0.9506\n",
            "Epoch 00040: val_loss did not improve from 0.18449\n",
            "223/223 [==============================] - 21s 94ms/step - loss: 0.1273 - accuracy: 0.9506 - val_loss: 0.1845 - val_accuracy: 0.9290 - lr: 1.6423e-05\n",
            "Epoch 41/42\n",
            "223/223 [==============================] - ETA: 0s - loss: 0.1242 - accuracy: 0.9519\n",
            "Epoch 00041: val_loss did not improve from 0.18449\n",
            "223/223 [==============================] - 21s 94ms/step - loss: 0.1242 - accuracy: 0.9519 - val_loss: 0.1929 - val_accuracy: 0.9270 - lr: 1.4781e-05\n",
            "Epoch 42/42\n",
            "223/223 [==============================] - ETA: 0s - loss: 0.1211 - accuracy: 0.9536\n",
            "Epoch 00042: val_loss did not improve from 0.18449\n",
            "223/223 [==============================] - 21s 94ms/step - loss: 0.1211 - accuracy: 0.9536 - val_loss: 0.1956 - val_accuracy: 0.9233 - lr: 1.3303e-05\n"
          ],
          "name": "stdout"
        }
      ]
    },
    {
      "cell_type": "code",
      "metadata": {
        "id": "QAmzqoCNfxHl",
        "colab_type": "code",
        "colab": {
          "base_uri": "https://localhost:8080/",
          "height": 889
        },
        "outputId": "c469c4ec-a962-45b5-d46c-c08500d8dbe5"
      },
      "source": [
        "model.summary()"
      ],
      "execution_count": 50,
      "outputs": [
        {
          "output_type": "stream",
          "text": [
            "Model: \"sequential_1\"\n",
            "_________________________________________________________________\n",
            "Layer (type)                 Output Shape              Param #   \n",
            "=================================================================\n",
            "conv2d_4 (Conv2D)            (None, 28, 28, 128)       1280      \n",
            "_________________________________________________________________\n",
            "batch_normalization_6 (Batch (None, 28, 28, 128)       512       \n",
            "_________________________________________________________________\n",
            "conv2d_5 (Conv2D)            (None, 28, 28, 128)       147584    \n",
            "_________________________________________________________________\n",
            "batch_normalization_7 (Batch (None, 28, 28, 128)       512       \n",
            "_________________________________________________________________\n",
            "max_pooling2d_2 (MaxPooling2 (None, 14, 14, 128)       0         \n",
            "_________________________________________________________________\n",
            "dropout_4 (Dropout)          (None, 14, 14, 128)       0         \n",
            "_________________________________________________________________\n",
            "conv2d_6 (Conv2D)            (None, 14, 14, 256)       295168    \n",
            "_________________________________________________________________\n",
            "batch_normalization_8 (Batch (None, 14, 14, 256)       1024      \n",
            "_________________________________________________________________\n",
            "conv2d_7 (Conv2D)            (None, 14, 14, 256)       590080    \n",
            "_________________________________________________________________\n",
            "batch_normalization_9 (Batch (None, 14, 14, 256)       1024      \n",
            "_________________________________________________________________\n",
            "max_pooling2d_3 (MaxPooling2 (None, 7, 7, 256)         0         \n",
            "_________________________________________________________________\n",
            "dropout_5 (Dropout)          (None, 7, 7, 256)         0         \n",
            "_________________________________________________________________\n",
            "flatten_1 (Flatten)          (None, 12544)             0         \n",
            "_________________________________________________________________\n",
            "dense_3 (Dense)              (None, 512)               6423040   \n",
            "_________________________________________________________________\n",
            "batch_normalization_10 (Batc (None, 512)               2048      \n",
            "_________________________________________________________________\n",
            "dropout_6 (Dropout)          (None, 512)               0         \n",
            "_________________________________________________________________\n",
            "dense_4 (Dense)              (None, 1024)              525312    \n",
            "_________________________________________________________________\n",
            "batch_normalization_11 (Batc (None, 1024)              4096      \n",
            "_________________________________________________________________\n",
            "dropout_7 (Dropout)          (None, 1024)              0         \n",
            "_________________________________________________________________\n",
            "dense_5 (Dense)              (None, 5)                 5125      \n",
            "=================================================================\n",
            "Total params: 7,996,805\n",
            "Trainable params: 7,992,197\n",
            "Non-trainable params: 4,608\n",
            "_________________________________________________________________\n"
          ],
          "name": "stdout"
        }
      ]
    },
    {
      "cell_type": "code",
      "metadata": {
        "id": "ujy_RcLf-1Ua",
        "colab_type": "code",
        "colab": {
          "base_uri": "https://localhost:8080/",
          "height": 53
        },
        "outputId": "fbfd43ca-1f04-4d8f-be01-c8de04a2ce67"
      },
      "source": [
        "model.evaluate(x_test, y_test)"
      ],
      "execution_count": 3,
      "outputs": [
        {
          "output_type": "stream",
          "text": [
            "94/94 [==============================] - 1s 6ms/step - loss: 0.1959 - accuracy: 0.9233\n"
          ],
          "name": "stdout"
        },
        {
          "output_type": "execute_result",
          "data": {
            "text/plain": [
              "[0.19591128826141357, 0.9233333468437195]"
            ]
          },
          "metadata": {
            "tags": []
          },
          "execution_count": 3
        }
      ]
    },
    {
      "cell_type": "code",
      "metadata": {
        "id": "zMM7yxFT--Px",
        "colab_type": "code",
        "colab": {
          "base_uri": "https://localhost:8080/",
          "height": 53
        },
        "outputId": "5b8be3a8-01a5-41e1-eb0a-19dca2a58b02"
      },
      "source": [
        "#load best model from checkpointer (Epoch 38)\n",
        "from tensorflow.keras.models import load_model\n",
        "best_model = load_model('fashion_mnist_model.h5')\n",
        "best_model.evaluate(x_test, y_test)"
      ],
      "execution_count": 10,
      "outputs": [
        {
          "output_type": "stream",
          "text": [
            "94/94 [==============================] - 1s 6ms/step - loss: 0.1850 - accuracy: 0.9300\n"
          ],
          "name": "stdout"
        },
        {
          "output_type": "execute_result",
          "data": {
            "text/plain": [
              "[0.18498501181602478, 0.9300000071525574]"
            ]
          },
          "metadata": {
            "tags": []
          },
          "execution_count": 10
        }
      ]
    },
    {
      "cell_type": "code",
      "metadata": {
        "id": "e6BIevrxPqLx",
        "colab_type": "code",
        "colab": {}
      },
      "source": [
        "#Predict Test Labels for Kaggle\n",
        "dataset2 = pd.read_csv(\"./testX.csv\")\n",
        "xarray2 = dataset2.values[:,1:]/255\n",
        "x2 = xarray2.reshape(dataset2.shape[0], 28, 28, 1)\n",
        "Y_pred = best_model.predict(x2)\n",
        "#Convert from one-hot vector \n",
        "Y_pred_classes = np.argmax(Y_pred,axis = 1) "
      ],
      "execution_count": 0,
      "outputs": []
    },
    {
      "cell_type": "code",
      "metadata": {
        "id": "By9DOYviPs-n",
        "colab_type": "code",
        "colab": {}
      },
      "source": [
        "#save to csv file with specific format\n",
        "DF = pd.DataFrame(dataset2.loc[:,\"Id\"])\n",
        "DF[\"Label\"]= Y_pred_classes\n",
        "DF = DF.drop(columns=[\"Id\"])\n",
        "DF.index.name = \"Id\"\n",
        "DF.to_csv('fincnn5.csv')"
      ],
      "execution_count": 0,
      "outputs": []
    },
    {
      "cell_type": "code",
      "metadata": {
        "id": "IBbxAdkTbrSR",
        "colab_type": "code",
        "colab": {}
      },
      "source": [
        "DF.to_csv('fincnn6.csv')"
      ],
      "execution_count": 0,
      "outputs": []
    },
    {
      "cell_type": "code",
      "metadata": {
        "id": "It1Cs6OqCF5M",
        "colab_type": "code",
        "colab": {
          "base_uri": "https://localhost:8080/",
          "height": 351
        },
        "outputId": "a076d1ae-ae85-4c5c-cd93-fbf23f07f3ee"
      },
      "source": [
        "import matplotlib.pyplot as plt\n",
        "import seaborn as sns\n",
        "\n",
        "plt.plot(history.history['loss'])\n",
        "plt.plot(history.history['val_loss'])\n",
        "plt.title(\"Model Loss\")\n",
        "plt.xlabel('Epochs')\n",
        "plt.ylabel('Loss')\n",
        "plt.legend(['Train', 'Validation'])\n",
        "plt.show()"
      ],
      "execution_count": 15,
      "outputs": [
        {
          "output_type": "stream",
          "text": [
            "/usr/local/lib/python3.6/dist-packages/statsmodels/tools/_testing.py:19: FutureWarning: pandas.util.testing is deprecated. Use the functions in the public API at pandas.testing instead.\n",
            "  import pandas.util.testing as tm\n"
          ],
          "name": "stderr"
        },
        {
          "output_type": "display_data",
          "data": {
            "image/png": "[encoded data removed]",
            "text/plain": [
              "<Figure size 432x288 with 1 Axes>"
            ]
          },
          "metadata": {
            "tags": [],
            "needs_background": "light"
          }
        }
      ]
    },
    {
      "cell_type": "code",
      "metadata": {
        "id": "_U1XxJW-D6y0",
        "colab_type": "code",
        "colab": {
          "base_uri": "https://localhost:8080/",
          "height": 295
        },
        "outputId": "a5cbce62-1a5c-4dcc-d89d-df60c26fb5d7"
      },
      "source": [
        "plt.plot(history.history['accuracy'])\n",
        "plt.plot(history.history['val_accuracy'])\n",
        "plt.title(\"Model Accuracy\")\n",
        "plt.xlabel('Epochs')\n",
        "plt.ylabel('Accuracy')\n",
        "plt.legend(['Train', 'Validation'])\n",
        "plt.show()"
      ],
      "execution_count": 17,
      "outputs": [
        {
          "output_type": "display_data",
          "data": {
            "image/png": "[encoded data removed]",
            "text/plain": [
              "<Figure size 432x288 with 1 Axes>"
            ]
          },
          "metadata": {
            "tags": [],
            "needs_background": "light"
          }
        }
      ]
    },
    {
      "cell_type": "code",
      "metadata": {
        "id": "K6LXk-EzEfua",
        "colab_type": "code",
        "colab": {
          "base_uri": "https://localhost:8080/",
          "height": 283
        },
        "outputId": "95261a5d-f865-4381-f655-e232cc5255f0"
      },
      "source": [
        "from sklearn.metrics import confusion_matrix\n",
        "\n",
        "# Predict the values from the validation dataset\n",
        "Y_pred = best_model.predict(x_test)\n",
        "# Convert predictions classes to one hot vectors \n",
        "Y_pred_classes = np.argmax(Y_pred,axis = 1) \n",
        "# Convert validation observations to one hot vectors\n",
        "Y_true = np.argmax(y_test,axis = 1) \n",
        "# compute the confusion matrix\n",
        "confusion_mtx = confusion_matrix(Y_true, Y_pred_classes) \n",
        "# plot the confusion matrix\n",
        "sns.heatmap(confusion_mtx, annot=True)"
      ],
      "execution_count": 20,
      "outputs": [
        {
          "output_type": "execute_result",
          "data": {
            "text/plain": [
              "<matplotlib.axes._subplots.AxesSubplot at 0x7f586008fef0>"
            ]
          },
          "metadata": {
            "tags": []
          },
          "execution_count": 20
        },
        {
          "output_type": "display_data",
          "data": {
            "image/png": "[encoded data removed]",
            "text/plain": [
              "<Figure size 432x288 with 2 Axes>"
            ]
          },
          "metadata": {
            "tags": [],
            "needs_background": "light"
          }
        }
      ]
    },
    {
      "cell_type": "markdown",
      "metadata": {
        "id": "WUi3MbbmJabn",
        "colab_type": "text"
      },
      "source": [
        "This ROC plot was implemented as in :\n",
        "\n",
        "https://scikit-learn.org/stable/auto_examples/model_selection/plot_roc.html"
      ]
    },
    {
      "cell_type": "code",
      "metadata": {
        "id": "Fm6q-wdqFxTS",
        "colab_type": "code",
        "colab": {
          "base_uri": "https://localhost:8080/",
          "height": 496
        },
        "outputId": "17d9d780-2abe-42b1-8773-b89bf55feb55"
      },
      "source": [
        "from itertools import cycle\n",
        "from sklearn import svm, datasets\n",
        "from sklearn.metrics import roc_curve, auc\n",
        "from sklearn.model_selection import train_test_split\n",
        "from sklearn.preprocessing import label_binarize\n",
        "from sklearn.multiclass import OneVsRestClassifier\n",
        "from scipy import interp\n",
        "from sklearn.metrics import roc_auc_score\n",
        "\n",
        "n_classes = 5\n",
        "\n",
        "# Compute ROC curve and ROC area for each class\n",
        "fpr = dict()\n",
        "tpr = dict()\n",
        "roc_auc = dict()\n",
        "for i in range(n_classes):\n",
        "    fpr[i], tpr[i], _ = roc_curve(y_test[:, i], Y_pred[:, i])\n",
        "    roc_auc[i] = auc(fpr[i], tpr[i])\n",
        "\n",
        "# Compute micro-average ROC curve and ROC area\n",
        "fpr[\"micro\"], tpr[\"micro\"], _ = roc_curve(y_test.ravel(), Y_pred.ravel())\n",
        "roc_auc[\"micro\"] = auc(fpr[\"micro\"], tpr[\"micro\"])\n",
        "\n",
        "# First aggregate all false positive rates\n",
        "all_fpr = np.unique(np.concatenate([fpr[i] for i in range(n_classes)]))\n",
        "\n",
        "# Then interpolate all ROC curves at this points\n",
        "mean_tpr = np.zeros_like(all_fpr)\n",
        "for i in range(n_classes):\n",
        "    mean_tpr += interp(all_fpr, fpr[i], tpr[i])\n",
        "\n",
        "# Finally average it and compute AUC\n",
        "mean_tpr /= n_classes\n",
        "\n",
        "fpr[\"macro\"] = all_fpr\n",
        "tpr[\"macro\"] = mean_tpr\n",
        "roc_auc[\"macro\"] = auc(fpr[\"macro\"], tpr[\"macro\"])\n",
        "\n",
        "# Plot all ROC curves\n",
        "plt.figure(figsize=(11,7))\n",
        "\n",
        "colors = cycle(['green', 'darkorange', 'brown','red','blue'])\n",
        "for i, color in zip(range(n_classes), colors):\n",
        "    plt.plot(fpr[i], tpr[i], color=color, lw=1,\n",
        "             label='ROC curve of class {0} (area = {1:0.2f})'\n",
        "             ''.format(i, roc_auc[i]))\n",
        "\n",
        "plt.plot([0, 1], [0, 1], 'k--', lw=1)\n",
        "plt.xlim([0.0, 1.0])\n",
        "plt.ylim([0.0, 1.05])\n",
        "plt.xlabel('False Positive Rate')\n",
        "plt.ylabel('True Positive Rate')\n",
        "plt.title('ROC')\n",
        "plt.legend(loc=\"lower right\")\n",
        "plt.show()"
      ],
      "execution_count": 49,
      "outputs": [
        {
          "output_type": "stream",
          "text": [
            "/usr/local/lib/python3.6/dist-packages/ipykernel_launcher.py:30: DeprecationWarning: scipy.interp is deprecated and will be removed in SciPy 2.0.0, use numpy.interp instead\n"
          ],
          "name": "stderr"
        },
        {
          "output_type": "display_data",
          "data": {
            "image/png": "[encoded data removed]",
            "text/plain": [
              "<Figure size 792x504 with 1 Axes>"
            ]
          },
          "metadata": {
            "tags": [],
            "needs_background": "light"
          }
        }
      ]
    },
    {
      "cell_type": "code",
      "metadata": {
        "id": "VO5jELg6KCo5",
        "colab_type": "code",
        "colab": {
          "base_uri": "https://localhost:8080/",
          "height": 235
        },
        "outputId": "a0df00a5-1ac2-4a74-f162-36ef3e74e538"
      },
      "source": [
        "from sklearn.metrics import classification_report\n",
        "print(classification_report(Y_true, Y_pred_classes))"
      ],
      "execution_count": 48,
      "outputs": [
        {
          "output_type": "stream",
          "text": [
            "              precision    recall  f1-score   support\n",
            "\n",
            "           0       0.96      0.97      0.97       590\n",
            "           1       0.93      0.91      0.92       625\n",
            "           2       0.89      0.91      0.90       559\n",
            "           3       0.90      0.91      0.91       602\n",
            "           4       0.96      0.95      0.95       624\n",
            "\n",
            "    accuracy                           0.93      3000\n",
            "   macro avg       0.93      0.93      0.93      3000\n",
            "weighted avg       0.93      0.93      0.93      3000\n",
            "\n"
          ],
          "name": "stdout"
        }
      ]
    }
  ],
  "metadata": {
    "colab": {
      "name": "ass3part2.ipynb",
      "provenance": [],
      "collapsed_sections": []
    },
    "kernelspec": {
      "name": "python3",
      "display_name": "Python 3"
    },
    "accelerator": "GPU"
  },
  "nbformat": 4,
  "nbformat_minor": 0
}